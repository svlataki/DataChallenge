{
  "nbformat": 4,
  "nbformat_minor": 0,
  "metadata": {
    "colab": {
      "name": "prediction_merger.ipynb",
      "provenance": [],
      "collapsed_sections": [],
      "authorship_tag": "ABX9TyMR2NLHguNmyfFhaDrmlvGB",
      "include_colab_link": true
    },
    "kernelspec": {
      "name": "python3",
      "display_name": "Python 3"
    },
    "language_info": {
      "name": "python"
    }
  },
  "cells": [
    {
      "cell_type": "markdown",
      "metadata": {
        "id": "view-in-github",
        "colab_type": "text"
      },
      "source": [
        "<a href=\"https://colab.research.google.com/github/svlataki/DataChallenge/blob/main/prediction_merger.ipynb\" target=\"_parent\"><img src=\"https://colab.research.google.com/assets/colab-badge.svg\" alt=\"Open In Colab\"/></a>"
      ]
    },
    {
      "cell_type": "code",
      "execution_count": 1,
      "metadata": {
        "colab": {
          "base_uri": "https://localhost:8080/"
        },
        "id": "mBrP-P4GMbhj",
        "outputId": "fa668a38-728b-4e0f-be03-c46a9f8178ca"
      },
      "outputs": [
        {
          "output_type": "stream",
          "name": "stdout",
          "text": [
            "Mounted at /content/gdrive\n"
          ]
        }
      ],
      "source": [
        "from google.colab import drive\n",
        "drive.mount(\"/content/gdrive\")\n",
        "%cd /content/drive/My Drive/"
      ]
    },
    {
      "cell_type": "code",
      "source": [
        "import pandas as pd\n",
        "import numpy as np"
      ],
      "metadata": {
        "id": "Z2BTmfZZMdVA"
      },
      "execution_count": null,
      "outputs": []
    },
    {
      "cell_type": "code",
      "source": [
        "df1 = pd.read_csv(\"../sample_submission_bert_sentences(1).csv\")\n",
        "df2 = pd.read_csv(\"../sample_submission_xgboost_tfidf.csv\")\n",
        "\n",
        "for col in df1.columns[1:]:\n",
        "    df1[col] *= 0.6\n",
        "\n",
        "for col in df2.columns[1:]:\n",
        "    df2[col] *= 0.4\n",
        "\n",
        "df_concat = pd.concat([df1, df2])\n",
        "\n",
        "final_df = df_concat.groupby(level=0).mean()\n",
        "\n",
        "final_df.insert(loc = 0,\n",
        "        column = 'col1',\n",
        "        value = df1['domain_name'])\n",
        "\n",
        "final_df.columns = df1.columns\n",
        "\n",
        "\n",
        "final_df.to_csv('../merged_predictions_3.csv',index=False)"
      ],
      "metadata": {
        "id": "GHCTe5z1Mk9T"
      },
      "execution_count": null,
      "outputs": []
    }
  ]
}